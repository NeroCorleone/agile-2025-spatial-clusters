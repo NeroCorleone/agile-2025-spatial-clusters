{
 "cells": [
  {
   "metadata": {},
   "cell_type": "code",
   "source": [
    "from pathlib import Path\n",
    "\n",
    "import pandas as pd\n",
    "import matplotlib.pyplot as plt\n",
    "import numpy as np\n",
    "from sklearn.preprocessing import StandardScaler\n",
    "import sklearn\n",
    "import seaborn as sns"
   ],
   "id": "7dac4061b1303c5c",
   "outputs": [],
   "execution_count": null
  },
  {
   "metadata": {},
   "cell_type": "code",
   "source": "data = pd.read_csv(\"./data/data-sample.csv\")",
   "id": "a8f518a6cd0c0659",
   "outputs": [],
   "execution_count": null
  },
  {
   "cell_type": "code",
   "id": "initial_id",
   "metadata": {
    "collapsed": true
   },
   "source": [
    "to_keep = [\n",
    "    'id',\n",
    "    'id_internal',\n",
    "    'employees',\n",
    "    'founding_year',\n",
    "    'indegree',\n",
    "    'outdegree',\n",
    "    'innoprob',\n",
    "    'sustainability_intensity',\n",
    "    'ai_intensity',\n",
    "    '3d_printing_intensity'\n",
    "]\n",
    "df = data[to_keep]\n",
    "\n",
    "df[\"age_years\"] = (2024 - df[\"founding_year\"])\n",
    "df.drop(columns=\"founding_year\", inplace=True)"
   ],
   "outputs": [],
   "execution_count": null
  },
  {
   "metadata": {},
   "cell_type": "code",
   "source": "sns.heatmap(df[df.columns[2:]].corr(), cmap=\"YlGnBu\", annot=True)",
   "id": "34ae310c5ae2d4f0",
   "outputs": [],
   "execution_count": null
  },
  {
   "metadata": {},
   "cell_type": "code",
   "source": [
    "cols = ['indegree', 'outdegree', 'innoprob' ]\n",
    "df[cols] = df[cols].fillna(df[cols].median())\n",
    "cols_replace_with_zero = ['sustainability_intensity', 'ai_intensity', '3d_printing_intensity']\n",
    "df[cols_replace_with_zero] = df[cols_replace_with_zero].fillna(0)\n",
    "cols_select = df.columns[2:]\n",
    "df[cols_select] = df[cols_select].fillna(df[cols_select].median())\n",
    "df.isna().sum()"
   ],
   "id": "8291c2aed9208960",
   "outputs": [],
   "execution_count": null
  },
  {
   "metadata": {},
   "cell_type": "code",
   "source": [
    "cols_select = df.columns[2:]\n",
    "for col in cols_select:\n",
    "    fig, ax = plt.subplots()\n",
    "    sns.histplot(df[col], bins=100, ax=ax)\n",
    "    ax.set_title(col)"
   ],
   "id": "543615582ca7bd1b",
   "outputs": [],
   "execution_count": null
  },
  {
   "metadata": {},
   "cell_type": "code",
   "source": [
    "to_log_transform = list(set(cols_select) - {\"innoprob\"})\n",
    "df[list(to_log_transform)] = np.log(1 + df[list(to_log_transform)])"
   ],
   "id": "67518e508c59c39f",
   "outputs": [],
   "execution_count": null
  },
  {
   "metadata": {},
   "cell_type": "code",
   "source": [
    "for col in cols_select:\n",
    "    fig, ax = plt.subplots()\n",
    "    sns.histplot(df[col], bins=100, ax=ax)\n",
    "    ax.set_title(col)"
   ],
   "id": "4ca436edf6b5fafc",
   "outputs": [],
   "execution_count": null
  },
  {
   "metadata": {},
   "cell_type": "code",
   "source": [
    "X = df[df.columns[2:]].values\n",
    "clf = sklearn.ensemble.IsolationForest(\n",
    "    n_estimators=1000,\n",
    ").fit(X)\n",
    "df_score = clf.decision_function(X)\n",
    "fig, ax = plt.subplots(figsize=(16, 9))\n",
    "sns.histplot(df_score, ax=ax)\n"
   ],
   "id": "19fe06bdb103dd5e",
   "outputs": [],
   "execution_count": null
  },
  {
   "metadata": {},
   "cell_type": "code",
   "source": [
    "\n",
    "cutoff_score = -0.15\n",
    "df[\"anomaly_score\"] = df_score\n",
    "\n",
    "select = df[df[\"anomaly_score\"] > cutoff_score]\n",
    "select.drop(columns=[\"anomaly_score\"], inplace=True)"
   ],
   "id": "692480ac7065eb33",
   "outputs": [],
   "execution_count": null
  },
  {
   "metadata": {},
   "cell_type": "code",
   "source": [
    "encoder = StandardScaler()\n",
    "select_encoded = encoder.fit_transform(select[select.columns[2:]])\n",
    "df_encoded = pd.DataFrame(select_encoded, columns=select.columns[2:])"
   ],
   "id": "5351bd190b9b81be",
   "outputs": [],
   "execution_count": null
  },
  {
   "metadata": {},
   "cell_type": "code",
   "source": [
    "df_encoded[[\"id\", \"id_internal\"]] = select[[\"id\", \"id_internal\"]]\n",
    "df_encoded = df_encoded[['id', 'id_internal', 'employees', 'indegree', 'outdegree', 'innoprob',\n",
    "                         'sustainability_intensity', 'ai_intensity',\n",
    "                         '3d_printing_intensity', 'age_years', ]]\n"
   ],
   "id": "13a9fe1a5fadbd61",
   "outputs": [],
   "execution_count": null
  },
  {
   "metadata": {},
   "cell_type": "code",
   "source": [
    "result_path=Path(\"results\")\n",
    "result_path.mkdir(exist_ok=True,parents=True)\n",
    "df_encoded.to_csv(\"results/features.csv\", index=False)"
   ],
   "id": "c747b227833db466",
   "outputs": [],
   "execution_count": null
  }
 ],
 "metadata": {
  "kernelspec": {
   "display_name": "Python 3",
   "language": "python",
   "name": "python3"
  },
  "language_info": {
   "codemirror_mode": {
    "name": "ipython",
    "version": 2
   },
   "file_extension": ".py",
   "mimetype": "text/x-python",
   "name": "python",
   "nbconvert_exporter": "python",
   "pygments_lexer": "ipython2",
   "version": "2.7.6"
  }
 },
 "nbformat": 4,
 "nbformat_minor": 5
}
